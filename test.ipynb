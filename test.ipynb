{
 "metadata": {
  "language_info": {
   "codemirror_mode": {
    "name": "ipython",
    "version": 3
   },
   "file_extension": ".py",
   "mimetype": "text/x-python",
   "name": "python",
   "nbconvert_exporter": "python",
   "pygments_lexer": "ipython3",
   "version": "3.7.8"
  },
  "orig_nbformat": 4,
  "kernelspec": {
   "name": "python3",
   "display_name": "Python 3.7.8 64-bit"
  },
  "interpreter": {
   "hash": "57baa5815c940fdaff4d14510622de9616cae602444507ba5d0b6727c008cbd6"
  }
 },
 "nbformat": 4,
 "nbformat_minor": 2,
 "cells": [
  {
   "cell_type": "code",
   "execution_count": null,
   "metadata": {},
   "outputs": [],
   "source": []
  },
  {
   "cell_type": "code",
   "execution_count": null,
   "metadata": {},
   "outputs": [],
   "source": [
    "import sqlite3\n",
    "\n",
    "conn = sqlite3.connect('db.recipes')\n",
    "db_cursor=conn.cursor()\n",
    "conn.close()\n",
    "\n",
    "\n",
    "\n"
   ]
  },
  {
   "cell_type": "code",
   "execution_count": null,
   "metadata": {},
   "outputs": [],
   "source": [
    "def query2dict(header,result):\r\n",
    "  query_output={}\r\n",
    "  for i in range(len(header)):\r\n",
    "      query_output[header[i][0]]=result[i]\r\n",
    "  return(query_output)\r\n",
    "\r\n",
    "result=[]\r\n",
    "query_sql='select * from recipes'\r\n",
    "db_cursor.execute(query_sql)\r\n",
    "for recipe in db_cursor.fetchall():\r\n",
    "    result.append(query2dict(db_cursor.description,recipe))\r\n",
    "result    "
   ]
  },
  {
   "cell_type": "code",
   "execution_count": null,
   "metadata": {},
   "outputs": [],
   "source": [
    "query_sql='select id,title,making_time,serves,ingredients,cost from recipes'\n",
    "db_cursor.execute(query_sql+' where id={0}'.format(1))\n",
    "db_cursor.fetchone()\n",
    "print(query_sql+' where id={0}'.format(2))"
   ]
  },
  {
   "cell_type": "code",
   "execution_count": null,
   "metadata": {},
   "outputs": [],
   "source": [
    "import datetime;\n",
    "\n",
    "ct = datetime.datetime.now()\n",
    "ct.strftime(\"%Y-%m-%d %H:%M:%S\")"
   ]
  }
 ]
}