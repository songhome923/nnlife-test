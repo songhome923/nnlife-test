{
 "metadata": {
  "language_info": {
   "codemirror_mode": {
    "name": "ipython",
    "version": 3
   },
   "file_extension": ".py",
   "mimetype": "text/x-python",
   "name": "python",
   "nbconvert_exporter": "python",
   "pygments_lexer": "ipython3",
   "version": "3.7.8"
  },
  "orig_nbformat": 4,
  "kernelspec": {
   "name": "python3",
   "display_name": "Python 3.7.8 64-bit"
  },
  "interpreter": {
   "hash": "57baa5815c940fdaff4d14510622de9616cae602444507ba5d0b6727c008cbd6"
  }
 },
 "nbformat": 4,
 "nbformat_minor": 2,
 "cells": [
  {
   "cell_type": "code",
   "execution_count": 6,
   "metadata": {},
   "outputs": [
    {
     "output_type": "error",
     "ename": "OperationalError",
     "evalue": "near \"SET\": syntax error",
     "traceback": [
      "\u001b[1;31m---------------------------------------------------------------------------\u001b[0m",
      "\u001b[1;31mOperationalError\u001b[0m                          Traceback (most recent call last)",
      "\u001b[1;32m<ipython-input-6-09376e8ce68d>\u001b[0m in \u001b[0;36m<module>\u001b[1;34m\u001b[0m\n\u001b[0;32m     13\u001b[0m   \u001b[0mcreated_at\u001b[0m \u001b[0mdatetime\u001b[0m \u001b[0mNOT\u001b[0m \u001b[0mNULL\u001b[0m \u001b[0mDEFAULT\u001b[0m \u001b[0mCURRENT_TIMESTAMP\u001b[0m\u001b[1;33m,\u001b[0m\u001b[1;33m\u001b[0m\u001b[1;33m\u001b[0m\u001b[0m\n\u001b[0;32m     14\u001b[0m   \u001b[0mupdated_at\u001b[0m \u001b[0mdatetime\u001b[0m \u001b[0mon\u001b[0m \u001b[0mupdate\u001b[0m \u001b[0mCURRENT_TIMESTAMP\u001b[0m \u001b[0mNOT\u001b[0m \u001b[0mNULL\u001b[0m \u001b[0mDEFAULT\u001b[0m \u001b[0mCURRENT_TIMESTAMP\u001b[0m\u001b[1;33m\u001b[0m\u001b[1;33m\u001b[0m\u001b[0m\n\u001b[1;32m---> 15\u001b[1;33m );\"\"\")\n\u001b[0m",
      "\u001b[1;31mOperationalError\u001b[0m: near \"SET\": syntax error"
     ]
    }
   ],
   "source": [
    "import sqlite3\n",
    "\n",
    "conn = sqlite3.connect('db.recipes')\n",
    "\n",
    "table=conn.cursor()\n",
    "table.execute(\"\"\"CREATE TABLE IF NOT EXISTS recipes (\n",
    "  id integer PRIMARY KEY AUTOINCREMENT,\n",
    "  title TEXT  NOT NULL,\n",
    "  making_time varchar(100) CHARACTER SET utf8 COLLATE utf8_unicode_ci NOT NULL,\n",
    "  serves varchar(100) CHARACTER SET utf8 COLLATE utf8_unicode_ci NOT NULL,\n",
    "  ingredients varchar(300) CHARACTER SET utf8 COLLATE utf8_unicode_ci NOT NULL,\n",
    "  cost integer NOT NULL,\n",
    "  created_at datetime NOT NULL DEFAULT CURRENT_TIMESTAMP,\n",
    "  updated_at datetime on update CURRENT_TIMESTAMP NOT NULL DEFAULT CURRENT_TIMESTAMP\n",
    ");\"\"\")"
   ]
  }
 ]
}